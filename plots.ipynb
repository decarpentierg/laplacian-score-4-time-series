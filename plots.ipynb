{
 "cells": [
  {
   "attachments": {},
   "cell_type": "markdown",
   "metadata": {},
   "source": [
    "# Plots"
   ]
  },
  {
   "attachments": {},
   "cell_type": "markdown",
   "metadata": {},
   "source": [
    "## Imports"
   ]
  },
  {
   "cell_type": "code",
   "execution_count": 1,
   "metadata": {},
   "outputs": [
    {
     "name": "stdout",
     "output_type": "stream",
     "text": [
      "Importing the dtw module. When using in academic works please cite:\n",
      "  T. Giorgino. Computing and Visualizing Dynamic Time Warping Alignments in R: The dtw Package.\n",
      "  J. Stat. Soft., doi:10.18637/jss.v031.i07.\n",
      "\n",
      "        2716ms INFO  [datasets.py] Initiating dataset SmallKitchenAppliances\n",
      "        2716ms INFO  [datasets.py] More info at https://timeseriesclassification.com/description.php?Dataset=SmallKitchenAppliances\n",
      "        2718ms INFO  [datasets.py] Initiating dataset DiatomSizeReduction\n",
      "        2719ms INFO  [datasets.py] More info at https://timeseriesclassification.com/description.php?Dataset=DiatomSizeReduction\n",
      "        2720ms INFO  [datasets.py] Initiating dataset PigAirwayPressure\n",
      "        2720ms INFO  [datasets.py] More info at https://timeseriesclassification.com/description.php?Dataset=PigAirwayPressure\n"
     ]
    }
   ],
   "source": [
    "import numpy as np\n",
    "import matplotlib.pyplot as plt\n",
    "\n",
    "from src.experiments.datasets import Dataset, pressure_ds, kitchen_ds, diatom_ds\n",
    "import src.experiments.laplacian_score as ls"
   ]
  },
  {
   "cell_type": "code",
   "execution_count": 2,
   "metadata": {},
   "outputs": [
    {
     "name": "stdout",
     "output_type": "stream",
     "text": [
      "        4602ms INFO  [datasets.py] Getting the DTW distance matrix with dataset SmallKitchenAppliances\n"
     ]
    }
   ],
   "source": [
    "D = kitchen_ds.dtw_distance_matrix"
   ]
  },
  {
   "cell_type": "code",
   "execution_count": 3,
   "metadata": {},
   "outputs": [
    {
     "data": {
      "text/plain": [
       "(750, 750)"
      ]
     },
     "execution_count": 3,
     "metadata": {},
     "output_type": "execute_result"
    }
   ],
   "source": [
    "D.shape"
   ]
  },
  {
   "cell_type": "code",
   "execution_count": null,
   "metadata": {},
   "outputs": [],
   "source": []
  }
 ],
 "metadata": {
  "kernelspec": {
   "display_name": "Python 3",
   "language": "python",
   "name": "python3"
  },
  "language_info": {
   "codemirror_mode": {
    "name": "ipython",
    "version": 3
   },
   "file_extension": ".py",
   "mimetype": "text/x-python",
   "name": "python",
   "nbconvert_exporter": "python",
   "pygments_lexer": "ipython3",
   "version": "3.8.10"
  },
  "orig_nbformat": 4
 },
 "nbformat": 4,
 "nbformat_minor": 2
}
